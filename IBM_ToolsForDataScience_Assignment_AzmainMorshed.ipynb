{
 "cells": [
  {
   "cell_type": "markdown",
   "metadata": {
    "collapsed": true
   },
   "source": [
    "# Azmain's Jupyter Notebook "
   ]
  },
  {
   "cell_type": "markdown",
   "metadata": {},
   "source": [
    "**I am Azmain Morshed**<br>\n",
    "Emerging data scientist"
   ]
  },
  {
   "cell_type": "markdown",
   "metadata": {},
   "source": [
    "Data Science Languages: Python, R, SQL"
   ]
  },
  {
   "cell_type": "markdown",
   "metadata": {},
   "source": [
    "Data Science Libraries: Pandas, NumPy, Scikit-learn, TensorFlow, Keras, Matplotlib, Seaborn, SciPy, PyTorch, NLTK, ggplot2, dplyr, tidyr, caret, shiny, lubridate, forecast, randomForest, knitr, rmarkdown, plotly, PostgreSQL, MySQL, SQLite, Microsoft SQL Server."
   ]
  },
  {
   "cell_type": "markdown",
   "metadata": {},
   "source": [
    "**Data Science Tools**\n",
    "\n",
    "| Category            | Tool Names                                       |\n",
    "|---------------------|--------------------------------------------------|\n",
    "| Programming Languages | Python, R, Julia, Java, Scala, SQL               |\n",
    "| Python Libraries     | Pandas, NumPy, Scikit-learn, TensorFlow, Keras   |\n",
    "| R Libraries          | ggplot2, dplyr, tidyr, caret, shiny              |\n",
    "| Data Visualization   | Matplotlib, Seaborn, Plotly, ggplot2             |\n",
    "| Machine Learning     | TensorFlow, PyTorch, Keras, Scikit-learn, caret  |\n",
    "| Big Data             | Apache Spark, Hadoop, PySpark, Impala            |\n",
    "| Database Management  | PostgreSQL, MySQL, SQLite, MongoDB               |\n",
    "| Deep Learning        | TensorFlow, PyTorch, Keras, Deeplearning4j      |\n",
    "| NLP                  | NLTK, spaCy, Gensim                              |\n",
    "| Web Scraping         | BeautifulSoup, Scrapy                            |\n",
    "| IDEs and Notebooks   | Jupyter Notebook, RStudio, Visual Studio Code    |\n"
   ]
  },
  {
   "cell_type": "markdown",
   "metadata": {},
   "source": [
    "### Operations:\n",
    "1. Addition (`+`)\n",
    "2. Multiplication (`*`)\n",
    "3. Division (`/`) - Used for converting minutes to hours"
   ]
  },
  {
   "cell_type": "code",
   "execution_count": 1,
   "metadata": {},
   "outputs": [
    {
     "name": "stdout",
     "output_type": "stream",
     "text": [
      "Product: 50\n",
      "Sum: 15\n"
     ]
    }
   ],
   "source": [
    "# Multiplication and Addition\n",
    "number1 = 5\n",
    "number2 = 10\n",
    "\n",
    "# Multiplying numbers\n",
    "product = number1 * number2\n",
    "print(\"Product:\", product)\n",
    "\n",
    "# Adding numbers\n",
    "sum = number1 + number2\n",
    "print(\"Sum:\", sum)\n"
   ]
  },
  {
   "cell_type": "code",
   "execution_count": 2,
   "metadata": {},
   "outputs": [
    {
     "name": "stdout",
     "output_type": "stream",
     "text": [
      "120 minutes is equal to 2.0 hours.\n"
     ]
    }
   ],
   "source": [
    "# Convert Minutes to Hours\n",
    "minutes = 120\n",
    "\n",
    "# Conversion\n",
    "hours = minutes / 60\n",
    "print(f\"{minutes} minutes is equal to {hours} hours.\")\n"
   ]
  },
  {
   "cell_type": "markdown",
   "metadata": {},
   "source": [
    "### Objectives\n",
    "\n",
    "- Understand basic arithmetic operations in Python.\n",
    "- Learn to convert units (minutes to hours).\n",
    "- Practice Python coding in a Jupyter Notebook environment."
   ]
  },
  {
   "cell_type": "markdown",
   "metadata": {},
   "source": [
    "## Author\n",
    "\n",
    "- Azmain Morshed\n"
   ]
  }
 ],
 "metadata": {
  "kernelspec": {
   "display_name": "Python 3 (ipykernel)",
   "language": "python",
   "name": "python3"
  },
  "language_info": {
   "codemirror_mode": {
    "name": "ipython",
    "version": 3
   },
   "file_extension": ".py",
   "mimetype": "text/x-python",
   "name": "python",
   "nbconvert_exporter": "python",
   "pygments_lexer": "ipython3",
   "version": "3.11.3"
  }
 },
 "nbformat": 4,
 "nbformat_minor": 1
}
